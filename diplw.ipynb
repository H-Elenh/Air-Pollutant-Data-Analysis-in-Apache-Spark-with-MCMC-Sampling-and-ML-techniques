{
 "cells": [
  {
   "cell_type": "code",
   "execution_count": 1,
   "metadata": {},
   "outputs": [],
   "source": [
    "#Import libraries as needed\n",
    "import pandas as pd\n",
    "import numpy as np\n",
    "import seaborn as sns\n",
    "import matplotlib.pyplot as plt\n",
    "from sklearn.preprocessing import RobustScaler\n",
    "from sklearn.metrics import mean_absolute_error, mean_squared_error, r2_score"
   ]
  },
  {
   "cell_type": "code",
   "execution_count": 2,
   "metadata": {},
   "outputs": [],
   "source": [
    "#Start Spark Session\n",
    "from pyspark . sql import SparkSession\n",
    "spark = SparkSession . builder . appName ('yuck').getOrCreate ()\n"
   ]
  },
  {
   "cell_type": "code",
   "execution_count": 55,
   "metadata": {},
   "outputs": [],
   "source": [
    "#Import single csv file to dataframe\n",
    "df = pd.read_csv ('madrid_2017.csv ', delimiter =',')"
   ]
  },
  {
   "cell_type": "code",
   "execution_count": 42,
   "metadata": {},
   "outputs": [],
   "source": [
    "#STEP 1: IMPUTE DATA AND MAKE SURE U HAVE CHOSEN\n",
    "#the most suitable imputaion method\n",
    "\n",
    "df['date'] = pd.to_datetime(df['date'])\n",
    "\n",
    "# Set the 'date' column as the index of the DataFrame\n",
    "df = df.set_index('date')\n",
    "\n",
    "# Interpolate missing values using time-based interpolation\n",
    "df= df.interpolate(method='time',limit_direction='both')\n",
    "\n",
    "# Reset the index to use an integer index instead of 'date'\n",
    "df = df.reset_index(drop=False)"
   ]
  },
  {
   "cell_type": "code",
   "execution_count": null,
   "metadata": {},
   "outputs": [],
   "source": [
    "#STEP 2: HISTOGRAMS\n",
    "\n",
    "# Get the columns to plot\n",
    "pollutants = df.columns[1:-1]\n",
    "\n",
    "# Create a figure with 4x4 subplots\n",
    "fig, axs = plt.subplots(nrows=4, ncols=4, figsize=(16, 16))\n",
    "\n",
    "# Plot a histogram for each column\n",
    "for i, pollutant in enumerate(pollutants):\n",
    "    # Get the data for the column\n",
    "    data = df[pollutant].dropna()\n",
    "    \n",
    "    # Determine the subplot location based on the column index\n",
    "    row = i // 4\n",
    "    col = i % 4\n",
    "    \n",
    "    # Plot the histogram with kde\n",
    "    sns.histplot(data, kde=True, bins=50, color='#8C78F0', ax=axs[row, col])\n",
    "    \n",
    "    # Add a vertical line for the mean\n",
    "    mean = data.mean()\n",
    "    axs[row, col].axvline(mean, color='k', linestyle='dashed', linewidth=1)\n",
    "    \n",
    "    # Add a vertical line for the standard deviation\n",
    "    std = data.std()\n",
    "    axs[row, col].axvline(mean+std, color='#8C78F0', linestyle='dashed', linewidth=1)\n",
    "    axs[row, col].axvline(mean-std, color='#8C78F0', linestyle='dashed', linewidth=1)\n",
    "    \n",
    "    # Set the title and axis labels\n",
    "    axs[row, col].set_title(pollutant)\n",
    "    axs[row, col].set_xlabel('Value')\n",
    "    axs[row, col].set_ylabel('Density')\n",
    "    axs[row, col].set_xlim([data.min(), data.max()])  # set x-axis range\n",
    "\n",
    "# Adjust the spacing between subplots\n",
    "fig.subplots_adjust(hspace=0.4, wspace=0.4)\n",
    "\n",
    "# Show the plot\n",
    "plt.show()\n",
    "\n"
   ]
  },
  {
   "cell_type": "code",
   "execution_count": null,
   "metadata": {},
   "outputs": [],
   "source": [
    "#range calc\n",
    "\n",
    "# Calculate the range of each column in df\n",
    "ranges = np.ptp(df, axis=0)\n",
    "\n",
    "# Print the ranges\n",
    "print(ranges)"
   ]
  },
  {
   "cell_type": "code",
   "execution_count": null,
   "metadata": {},
   "outputs": [],
   "source": [
    "# mean, median, and standard deviation check\n",
    "for pollutant in df.columns[1:-1]:\n",
    "    mean = df[pollutant].mean()\n",
    "    median = df[pollutant].median()\n",
    "    std = df[pollutant].std()\n",
    "    print(f\"{pollutant}: mean={mean:.2f}, median={median:.2f}, std={std:.2f}\")\n"
   ]
  },
  {
   "cell_type": "code",
   "execution_count": null,
   "metadata": {},
   "outputs": [],
   "source": [
    "#STEP 3: DEAL WITH OUTLIERS/ NORMALIZE\n",
    "df_top = df[['CO', 'EBE', 'NO_2', 'O_3', 'PM10', 'PM25','SO_2']]\n",
    "df_bottom = df[['BEN', 'CH4', 'NMHC', 'NO', 'NOx', 'TCH', 'TOL']]\n",
    "\n",
    "fig, axs = plt.subplots(2, figsize=(10, 8))\n",
    "\n",
    "# First plot with first 7 rows\n",
    "sns.boxplot(data=df_top, palette='PuRd', ax=axs[0])\n",
    "axs[0].set_xticklabels(df_top.columns, rotation=45)\n",
    "\n",
    "# Second plot with last 7 rows\n",
    "sns.boxplot(data=df_bottom, palette='PuRd', ax=axs[1])\n",
    "axs[1].set_xticklabels(df_bottom.columns, rotation=45)\n",
    "\n",
    "plt.show()"
   ]
  },
  {
   "cell_type": "code",
   "execution_count": 44,
   "metadata": {},
   "outputs": [
    {
     "name": "stdout",
     "output_type": "stream",
     "text": [
      "BEN     16966\n",
      "CH4     51798\n",
      "CO      13762\n",
      "EBE     19953\n",
      "NMHC     5935\n",
      "NO      27420\n",
      "NO_2     5160\n",
      "NOx     52550\n",
      "O_3       327\n",
      "PM10     8603\n",
      "PM25     8080\n",
      "SO_2     5006\n",
      "TCH     11358\n",
      "TOL     17246\n",
      "dtype: int64\n"
     ]
    }
   ],
   "source": [
    "#IQR OUTLIER REMOVAL AND NORMALIZATION\n",
    "\n",
    "\n",
    "# Get the columns to normalize\n",
    "pollutants = df.columns[1:-1]\n",
    "\n",
    "# Find outliers using the IQR method with k=1.5\n",
    "Q1 = df[pollutants].quantile(0.25)\n",
    "Q3 = df[pollutants].quantile(0.75)\n",
    "IQR = Q3 - Q1\n",
    "lower_bound = Q1 - 1.5 * IQR\n",
    "upper_bound = Q3 + 1.5 * IQR\n",
    "\n",
    "#show number of outliers\n",
    "outliers = (df[pollutants] < lower_bound) | (df[pollutants] > upper_bound)\n",
    "print(outliers.sum())\n",
    "\n",
    "#Remove outliers\n",
    "df[pollutants] = df[pollutants].mask(outliers)"
   ]
  },
  {
   "cell_type": "code",
   "execution_count": 47,
   "metadata": {},
   "outputs": [],
   "source": [
    "# Fill NaN values using time-based interpolation\n",
    "df['date'] = pd.to_datetime(df['date'])\n",
    "df = df.set_index('date')\n",
    "df = df.interpolate(method='time', limit_direction='both')\n",
    "df = df.reset_index(drop=False)"
   ]
  },
  {
   "cell_type": "code",
   "execution_count": null,
   "metadata": {},
   "outputs": [],
   "source": [
    "nan_counts = df.isnull().sum()\n",
    "print(nan_counts)"
   ]
  },
  {
   "cell_type": "code",
   "execution_count": 50,
   "metadata": {},
   "outputs": [],
   "source": [
    "# Normalize each column using the interquartile range (IQR) method\n",
    "for pollutant in pollutants:\n",
    "    col = df[pollutant]\n",
    "    scaler = RobustScaler(with_centering=False, quantile_range=(25.0, 75.0), copy=True, with_scaling=True)\n",
    "    df[pollutant] = scaler.fit_transform(col.values.reshape(-1,1))"
   ]
  },
  {
   "cell_type": "code",
   "execution_count": null,
   "metadata": {},
   "outputs": [],
   "source": [
    "df.head(100)"
   ]
  },
  {
   "cell_type": "code",
   "execution_count": 36,
   "metadata": {},
   "outputs": [],
   "source": [
    "#Z-SCORE Normalization\n",
    "\n",
    "# Convert the 'date' column to datetime\n",
    "df['date'] = pd.to_datetime(df['date'])\n",
    "\n",
    "# Set the 'date' column as the index of the DataFrame\n",
    "df = df.set_index('date')\n",
    "\n",
    "from scipy.stats import zscore\n",
    "\n",
    "# Get the columns to normalize\n",
    "pollutants = df.columns[1:-1]\n",
    "\n",
    "# Normalize each column using z-score with a threshold of ±2.5\n",
    "for pollutant in pollutants:\n",
    "    col = df[pollutant]\n",
    "    zscore_col = zscore(col)\n",
    "    mask = (zscore_col > -2.5) & (zscore_col < 2.5)\n",
    "    df[pollutant] = np.where(mask, col, np.nan)\n",
    "    df[pollutant] = df[pollutant].interpolate(method='time', limit_direction='both')\n"
   ]
  },
  {
   "cell_type": "code",
   "execution_count": 54,
   "metadata": {},
   "outputs": [],
   "source": [
    "\n",
    "# Save the DataFrame to a CSV file in the current working directory\n",
    "df.to_csv('C:\\\\Users\\\\eleni\\\\Documents\\\\Diplw\\\\Jupyter-Notebooks\\\\diplw\\\\clean_iqr.csv', index=False)"
   ]
  }
 ],
 "metadata": {
  "kernelspec": {
   "display_name": "Python 3",
   "language": "python",
   "name": "python3"
  },
  "language_info": {
   "codemirror_mode": {
    "name": "ipython",
    "version": 3
   },
   "file_extension": ".py",
   "mimetype": "text/x-python",
   "name": "python",
   "nbconvert_exporter": "python",
   "pygments_lexer": "ipython3",
   "version": "3.10.9"
  },
  "orig_nbformat": 4,
  "vscode": {
   "interpreter": {
    "hash": "08f69f058332a53b988b03342f3698f4bbcedd00667755503e522d87b70d0004"
   }
  }
 },
 "nbformat": 4,
 "nbformat_minor": 2
}

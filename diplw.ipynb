{
 "cells": [
  {
   "cell_type": "code",
   "execution_count": 1,
   "metadata": {},
   "outputs": [],
   "source": [
    "#Import libraries as needed\n",
    "import pandas as pd\n",
    "import numpy as np\n",
    "import seaborn as sns\n",
    "import matplotlib.pyplot as plt\n",
    "from sklearn.preprocessing import RobustScaler\n",
    "from sklearn.metrics import mean_absolute_error, mean_squared_error, r2_score"
   ]
  },
  {
   "cell_type": "code",
   "execution_count": 11,
   "metadata": {},
   "outputs": [],
   "source": [
    "#Import single csv file to dataframe\n",
    "df = pd.read_csv ('madrid_2017.csv', delimiter =',')"
   ]
  },
  {
   "cell_type": "code",
   "execution_count": 12,
   "metadata": {},
   "outputs": [],
   "source": [
    "#STEP 1: IMPUTE DATA AND MAKE SURE U HAVE CHOSEN\n",
    "#the most suitable imputaion method\n",
    "\n",
    "df['date'] = pd.to_datetime(df['date'])\n",
    "\n",
    "# Set the 'date' column as the index of the DataFrame\n",
    "df = df.set_index('date')\n",
    "\n",
    "# Interpolate missing values using time-based interpolation\n",
    "df= df.interpolate(method='time',limit_direction='both')\n",
    "\n",
    "# Reset the index to use an integer index instead of 'date'\n",
    "df = df.reset_index(drop=False)"
   ]
  },
  {
   "cell_type": "code",
   "execution_count": null,
   "metadata": {},
   "outputs": [],
   "source": [
    "# Get the columns to plot\n",
    "pollutants = df.columns[1:-1]\n",
    "\n",
    "# Create a figure with 4x4 subplots\n",
    "fig, axs = plt.subplots(nrows=4, ncols=4, figsize=(16, 16))\n",
    "\n",
    "# Plot a histogram for each column\n",
    "for i, pollutant in enumerate(pollutants):\n",
    "    # Get the data for the column\n",
    "    data = df[pollutant].dropna()\n",
    "    \n",
    "    # Determine the subplot location based on the column index\n",
    "    row = i // 4\n",
    "    col = i % 4\n",
    "    # get the range of values in the column, ignoring NaN and Inf\n",
    "    x_min = np.nanmin(df[pollutant][np.isfinite(df[pollutant])])\n",
    "    x_max = np.nanmax(df[pollutant][np.isfinite(df[pollutant])])\n",
    "    \n",
    "    # calculate number of bins using IQR rule\n",
    "    n = len(df[pollutant])\n",
    "    std = np.std(df[pollutant])\n",
    "    k = 3.5 * std / (n**(1/3))\n",
    "    num_bins = int((x_max - x_min) / k) if k != 0 else 1 # Added this line to handle the case when k=0\n",
    "    # Plot the histogram with kde\n",
    "    sns.histplot(data, kde=True, bins=num_bins, color='#8C78F0', ax=axs[row, col])\n",
    "    \n",
    "    # Add a vertical line for the mean\n",
    "    mean = data.mean()\n",
    "    axs[row, col].axvline(mean, color='k', linestyle='dashed', linewidth=1)\n",
    "    \n",
    "    # Add a vertical line for the standard deviation\n",
    "    std = data.std()\n",
    "    axs[row, col].axvline(mean+std, color='#8C78F0', linestyle='dashed', linewidth=1)\n",
    "    axs[row, col].axvline(mean-std, color='#8C78F0', linestyle='dashed', linewidth=1)\n",
    "    \n",
    "    # Set the title and axis labels\n",
    "    axs[row, col].set_title(pollutant)\n",
    "    axs[row, col].set_xlabel('Value')\n",
    "    axs[row, col].set_ylabel('Density')\n",
    "    axs[row, col].set_xlim([data.min(), data.max()])  # set x-axis range\n",
    "\n",
    "# Adjust the spacing between subplots\n",
    "fig.subplots_adjust(hspace=0.4, wspace=0.4)\n",
    "\n",
    "# Show the plot\n",
    "plt.show()"
   ]
  },
  {
   "cell_type": "code",
   "execution_count": null,
   "metadata": {},
   "outputs": [],
   "source": [
    "#range calc\n",
    "\n",
    "# Calculate the range of each column in df\n",
    "ranges = np.ptp(df, axis=0)\n",
    "\n",
    "# Print the ranges\n",
    "print(ranges)"
   ]
  },
  {
   "cell_type": "code",
   "execution_count": null,
   "metadata": {},
   "outputs": [],
   "source": [
    "# mean, median, and standard deviation check\n",
    "for pollutant in df.columns[1:-1]:\n",
    "    mean = df[pollutant].mean()\n",
    "    median = df[pollutant].median()\n",
    "    std = df[pollutant].std()\n",
    "    print(f\"{pollutant}: mean={mean:.2f}, median={median:.2f}, std={std:.2f}\")\n"
   ]
  },
  {
   "cell_type": "code",
   "execution_count": null,
   "metadata": {},
   "outputs": [],
   "source": [
    "#STEP 3: DEAL WITH OUTLIERS/ NORMALIZE\n",
    "df_top = df[['CO', 'EBE', 'NO_2', 'O_3', 'PM10', 'PM25','SO_2']]\n",
    "df_bottom = df[['BEN', 'CH4', 'NMHC', 'NO', 'NOx', 'TCH', 'TOL']]\n",
    "\n",
    "fig, axs = plt.subplots(2, figsize=(10, 8))\n",
    "\n",
    "# First plot with first 7 rows\n",
    "sns.boxplot(data=df_top, palette='PuRd', ax=axs[0])\n",
    "axs[0].set_xticklabels(df_top.columns, rotation=45)\n",
    "\n",
    "# Second plot with last 7 rows\n",
    "sns.boxplot(data=df_bottom, palette='PuRd', ax=axs[1])\n",
    "axs[1].set_xticklabels(df_bottom.columns, rotation=45)\n",
    "\n",
    "plt.show()"
   ]
  },
  {
   "cell_type": "code",
   "execution_count": null,
   "metadata": {},
   "outputs": [],
   "source": [
    "#IQR OUTLIER REMOVAL AND NORMALIZATION\n",
    "\n",
    "\n",
    "# Get the columns to normalize\n",
    "pollutants = df.columns[1:-1]\n",
    "\n",
    "# Find outliers using the IQR method with k=1.5\n",
    "Q1 = df[pollutants].quantile(0.25)\n",
    "Q3 = df[pollutants].quantile(0.75)\n",
    "IQR = Q3 - Q1\n",
    "lower_bound = Q1 - 1.5 * IQR\n",
    "upper_bound = Q3 + 1.5 * IQR\n",
    "\n",
    "#show number of outliers\n",
    "outliers = (df[pollutants] < lower_bound) | (df[pollutants] > upper_bound)\n",
    "print(outliers.sum())\n",
    "\n",
    "#Remove outliers\n",
    "df[pollutants] = df[pollutants].mask(outliers)"
   ]
  },
  {
   "cell_type": "code",
   "execution_count": 15,
   "metadata": {},
   "outputs": [],
   "source": [
    "# Fill NaN values using time-based interpolation\n",
    "df['date'] = pd.to_datetime(df['date'])\n",
    "df = df.set_index('date')\n",
    "df = df.interpolate(method='time', limit_direction='both')\n",
    "df = df.reset_index(drop=False)"
   ]
  },
  {
   "cell_type": "code",
   "execution_count": null,
   "metadata": {},
   "outputs": [],
   "source": [
    "nan_counts = df.isnull().sum()\n",
    "print(nan_counts)"
   ]
  },
  {
   "cell_type": "code",
   "execution_count": 50,
   "metadata": {},
   "outputs": [],
   "source": [
    "# SCALE IF NECESARY using the interquartile range (IQR) method\n",
    "#for pollutant in pollutants:\n",
    "#    col = df[pollutant]\n",
    "#    scaler = RobustScaler(with_centering=False, quantile_range=(25.0, 75.0), copy=True, with_scaling=True)\n",
    "#    df[pollutant] = scaler.fit_transform(col.values.reshape(-1,1))"
   ]
  },
  {
   "cell_type": "code",
   "execution_count": null,
   "metadata": {},
   "outputs": [],
   "source": [
    "df.head(100)"
   ]
  },
  {
   "cell_type": "code",
   "execution_count": null,
   "metadata": {},
   "outputs": [],
   "source": [
    "#ADD AQI column(AQI categorical value in categories = ['Good', 'Fair', 'Moderate', 'Poor', 'Very Poor', 'Extremely Poor'] )"
   ]
  },
  {
   "cell_type": "code",
   "execution_count": 13,
   "metadata": {},
   "outputs": [],
   "source": [
    "# Define the breakpoints and categories\n",
    "breakpoints = {\n",
    "    'PM25': [0, 10, 20, 25, 50, 75, 800],\n",
    "    'PM10': [0, 20, 40, 50, 100, 150, 1200],\n",
    "    'NO_2': [0, 40, 90, 120, 230, 340, 1000],\n",
    "    'O_3': [0, 50, 100, 130, 240, 380, 800],\n",
    "    'SO_2': [0, 100, 200, 350, 500, 750, 1250]\n",
    "}\n",
    "\n",
    "categories = ['Good', 'Fair', 'Moderate', 'Poor', 'Very Poor', 'Extremely Poor']"
   ]
  },
  {
   "cell_type": "code",
   "execution_count": 20,
   "metadata": {},
   "outputs": [],
   "source": [
    "# Define a function to calculate the AQI index for a given pollutant and concentration\n",
    "def calculate_index_level(pollutant, concentration):\n",
    "    breakpoints_list = breakpoints[pollutant]\n",
    "    for i in range(len(breakpoints_list)-1):\n",
    "        if breakpoints_list[i] <= concentration < breakpoints_list[i+1]:\n",
    "            return i+1\n",
    "    return 6  # If concentration exceeds the highest breakpoint, return the highest index level"
   ]
  },
  {
   "cell_type": "code",
   "execution_count": 26,
   "metadata": {},
   "outputs": [],
   "source": [
    "# Define a function to calculate the overall AQI index for a row of data\n",
    "def calculate_aqi_index(row):\n",
    "    levels = [calculate_index_level('PM25', row['PM25']),\n",
    "              calculate_index_level('PM10', row['PM10']),\n",
    "              calculate_index_level('NO_2', row['NO_2']),\n",
    "              calculate_index_level('O_3', row['O_3']),\n",
    "              calculate_index_level('SO_2', row['SO_2'])]\n",
    "    return max(levels)"
   ]
  },
  {
   "cell_type": "code",
   "execution_count": 27,
   "metadata": {},
   "outputs": [],
   "source": [
    "# Calculate the AQI index for each row\n",
    "df['AQI_Index'] = df.apply(calculate_aqi_index, axis=1)"
   ]
  },
  {
   "cell_type": "code",
   "execution_count": 28,
   "metadata": {},
   "outputs": [],
   "source": [
    "# Define a function to calculate the AQI category for a given index level\n",
    "def calculate_aqi_category(index_level):\n",
    "    return categories[index_level-1]\n",
    "\n",
    "# Add a column for the AQI category\n",
    "df['AQI_Category'] = df['AQI_Index'].apply(calculate_aqi_category)"
   ]
  },
  {
   "cell_type": "code",
   "execution_count": 30,
   "metadata": {},
   "outputs": [],
   "source": [
    "# Drop the pollutant AQI index columns\n",
    "df = df.drop(['PM25_AQI_Index', 'PM10_AQI_Index', 'NO_2_AQI_Index', 'O_3_AQI_Index', 'SO_2_AQI_Index'], axis=1)"
   ]
  },
  {
   "cell_type": "code",
   "execution_count": null,
   "metadata": {},
   "outputs": [],
   "source": [
    "df.tail(100)"
   ]
  },
  {
   "cell_type": "code",
   "execution_count": 19,
   "metadata": {},
   "outputs": [],
   "source": [
    "\n",
    "# Save the DataFrame without the AQI values to a CSV file in the current working directory\n",
    "df.to_csv('C:\\\\Users\\\\eleni\\\\Documents\\\\Diplw\\\\Jupyter-Notebooks\\\\diplw\\\\clean_iqr.csv', index=False)"
   ]
  },
  {
   "cell_type": "code",
   "execution_count": 34,
   "metadata": {},
   "outputs": [],
   "source": [
    "\n",
    "# Save the DataFrame with AQI to a CSV file in the current working directory\n",
    "df.to_csv('C:\\\\Users\\\\eleni\\\\Documents\\\\Diplw\\\\Jupyter-Notebooks\\\\diplw\\\\clean_iqr_with_AQI.csv', index=False)"
   ]
  }
 ],
 "metadata": {
  "kernelspec": {
   "display_name": "Python 3",
   "language": "python",
   "name": "python3"
  },
  "language_info": {
   "codemirror_mode": {
    "name": "ipython",
    "version": 3
   },
   "file_extension": ".py",
   "mimetype": "text/x-python",
   "name": "python",
   "nbconvert_exporter": "python",
   "pygments_lexer": "ipython3",
   "version": "3.10.9"
  },
  "orig_nbformat": 4,
  "vscode": {
   "interpreter": {
    "hash": "08f69f058332a53b988b03342f3698f4bbcedd00667755503e522d87b70d0004"
   }
  }
 },
 "nbformat": 4,
 "nbformat_minor": 2
}
